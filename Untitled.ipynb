{
 "cells": [
  {
   "cell_type": "code",
   "execution_count": 1,
   "id": "33490529",
   "metadata": {},
   "outputs": [],
   "source": [
    "import os"
   ]
  },
  {
   "cell_type": "code",
   "execution_count": 8,
   "id": "78a55283",
   "metadata": {},
   "outputs": [],
   "source": [
    "for root, dirs, files in os.walk('.'):\n",
    "    for fname in files:\n",
    "        p = os.path.join(root, fname)\n",
    "        if ' 2.' in p:\n",
    "            os.remove(p)"
   ]
  },
  {
   "cell_type": "code",
   "execution_count": null,
   "id": "247d1b5d",
   "metadata": {},
   "outputs": [],
   "source": []
  }
 ],
 "metadata": {
  "kernelspec": {
   "display_name": "Python 3 (ipykernel)",
   "language": "python",
   "name": "python3"
  },
  "language_info": {
   "codemirror_mode": {
    "name": "ipython",
    "version": 3
   },
   "file_extension": ".py",
   "mimetype": "text/x-python",
   "name": "python",
   "nbconvert_exporter": "python",
   "pygments_lexer": "ipython3",
   "version": "3.9.12"
  }
 },
 "nbformat": 4,
 "nbformat_minor": 5
}
